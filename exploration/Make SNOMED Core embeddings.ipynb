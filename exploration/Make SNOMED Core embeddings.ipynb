{
 "cells": [
  {
   "cell_type": "code",
   "execution_count": 1,
   "id": "a1f846f4",
   "metadata": {},
   "outputs": [
    {
     "data": {
      "text/plain": [
       "6667"
      ]
     },
     "execution_count": 1,
     "metadata": {},
     "output_type": "execute_result"
    }
   ],
   "source": [
    "import csv\n",
    "\n",
    "snomeds = []\n",
    "# open the CSV file in read mode\n",
    "with open('../../SNOMEDCT_CORE_SUBSET_202211/SNOMEDCT_CORE_SUBSET_202211.txt', 'r') as csvfile:\n",
    "    # create a CSV reader object\n",
    "    csvreader = csv.reader(csvfile, delimiter=\"|\")\n",
    "    \n",
    "    # get the header row and create a dictionary of column indexes\n",
    "    header = next(csvreader)\n",
    "    indexes = {header[i]: i for i in range(len(header))}\n",
    "\n",
    "    # loop over the remaining rows and create a dictionary for each row\n",
    "    for row in csvreader:\n",
    "        snomed = {}\n",
    "        for key, index in indexes.items():\n",
    "            snomed[key] = row[index]\n",
    "        snomed[\"text\"] = snomed[\"SNOMED_FSN\"]\n",
    "        snomeds.append(snomed)\n",
    "\n",
    "len(snomeds)"
   ]
  },
  {
   "cell_type": "code",
   "execution_count": 36,
   "id": "74d72eef",
   "metadata": {},
   "outputs": [
    {
     "name": "stdout",
     "output_type": "stream",
     "text": [
      "post-partum depression\n",
      "---\n",
      "Search results for 'post-partum depression':\n",
      "27151001, Post-laminectomy syndrome (disorder) ctr 0 -12.274184592849156\n",
      "314116003, Post infarct angina (disorder) ctr 0 -12.274184592849156\n",
      "31097004, Post poliomyelitis syndrome (disorder) ctr 0 -12.274184592849156\n",
      "239783001, Post-infective arthritis (disorder) ctr 0 -12.274184592849156\n",
      "238699007, Post-inflammatory hyperpigmentation (disorder) ctr 0 -12.274184592849156\n",
      "236664000, Post-micturition incontinence (finding) ctr 0 -12.274184592849156\n",
      "202725007, Lumbar post-laminectomy syndrome (disorder) ctr 0 -12.126262902026289\n",
      "269406001, Post-traumatic wound infection (disorder) ctr 0 -12.126262902026289\n",
      "202723000, Cervical post-laminectomy syndrome (disorder) ctr 0 -12.126262902026289\n",
      "373108000, Post percutaneous transluminal coronary angioplasty (finding) ctr 0 -11.981864096311027\n",
      "313182004, Chronic post-traumatic stress disorder (disorder) ctr 0 -11.981864096311027\n",
      "226007004, Post-surgical wound care (regime/therapy) ctr 0 -11.981864096311027\n",
      "199064003, Post-term pregnancy - not delivered (disorder) ctr 0 -11.981864096311027\n",
      "41006004, Depression (finding) ctr 0 -9.852763979226768\n",
      "35489007, Depressive disorder (disorder) ctr 0 -9.731091246634822\n",
      "300706003, Endogenous depression (disorder) ctr 0 -9.731091246634822\n",
      "310496002, Moderate depression (disorder) ctr 0 -9.731091246634822\n",
      "58703003, Postpartum depression (disorder) ctr 0 -9.731091246634822\n",
      "171207006, Depression screening (procedure) ctr 0 -9.731091246634822\n",
      "310495003, Mild depression (disorder) ctr 0 -9.731091246634822\n",
      "191616006, Recurrent depression (disorder) ctr 0 -9.731091246634822\n",
      "83458005, Agitated depression (disorder) ctr 0 -9.731091246634822\n",
      "370143000, Major depressive disorder (disorder) ctr 0 -9.612386953120513\n",
      "66344007, Recurrent major depression (disorder) ctr 0 -9.612386953120513\n",
      "87414006, Reactive depression (situational) (disorder) ctr 0 -9.612386953120513\n",
      "161469008, History of depression (situation) ctr 0 -9.612386953120513\n",
      "832007, Moderate major depression (disorder) ctr 0 -9.612386953120513\n",
      "191659001, Atypical depressive disorder (disorder) ctr 0 -9.612386953120513\n",
      "18818009, Moderate recurrent major depression (disorder) ctr 0 -9.49654377672103\n",
      "268621008, Recurrent major depressive episodes (disorder) ctr 0 -9.49654377672103\n",
      "36923009, Major depression, single episode (disorder) ctr 0 -9.49654377672103\n",
      "40379007, Mild recurrent major depression (disorder) ctr 0 -9.49654377672103\n",
      "49468007, Depressed bipolar I disorder (disorder) ctr 0 -9.49654377672103\n",
      "42810003, Major depression in remission (disorder) ctr 0 -9.49654377672103\n",
      "192046006, Brief depressive adjustment reaction (disorder) ctr 0 -9.49654377672103\n",
      "40568001, Recurrent brief depressive disorder (disorder) ctr 0 -9.49654377672103\n",
      "192049004, Prolonged depressive adjustment reaction (disorder) ctr 0 -9.49654377672103\n",
      "84760002, Schizoaffective disorder, depressive type (disorder) ctr 0 -9.49654377672103\n",
      "268620009, Single major depressive episode (disorder) ctr 0 -9.49654377672103\n",
      "231504006, Mixed anxiety and depressive disorder (disorder) ctr 0 -9.38345950740735\n",
      "57194009, Adjustment disorder with depressed mood (disorder) ctr 0 -9.38345950740735\n",
      "15639000, Moderate major depression, single episode (disorder) ctr 0 -9.38345950740735\n",
      "79298009, Mild major depression, single episode (disorder) ctr 0 -9.38345950740735\n",
      "66631006, Moderate depressed bipolar I disorder (disorder) ctr 0 -9.38345950740735\n",
      "74686005, Mild depressed bipolar I disorder (disorder) ctr 0 -9.38345950740735\n",
      "68019004, Recurrent major depression in remission (disorder) ctr 0 -9.38345950740735\n",
      "14070001, Multi-infarct dementia with depression (disorder) ctr 0 -9.38345950740735\n",
      "46244001, Recurrent major depression in full remission (disorder) ctr 0 -9.273036746302925\n",
      "33135002, Recurrent major depression in partial remission (disorder) ctr 0 -9.273036746302925\n",
      "191627008, Bipolar affective disorder, current episode depression (disorder) ctr 0 -9.273036746302925\n",
      "73867007, Severe major depression with psychotic features (disorder) ctr 0 -9.273036746302925\n",
      "75084000, Severe major depression without psychotic features (disorder) ctr 0 -9.273036746302925\n",
      "36474008, Severe recurrent major depression without psychotic features (disorder) ctr 0 -9.165182625892594\n",
      "28475009, Severe recurrent major depression with psychotic features (disorder) ctr 0 -9.165182625892594\n",
      "70747007, Major depression single episode, in partial remission (disorder) ctr 0 -9.165182625892594\n",
      "49512000, Depressed bipolar I disorder in partial remission (disorder) ctr 0 -9.165182625892594\n",
      "22121000, Depressed bipolar I disorder in full remission (disorder) ctr 0 -9.165182625892594\n",
      "191604000, Single major depressive episode, severe, with psychosis (disorder) ctr 0 -9.165182625892594\n",
      "191606003, Single major depressive episode, in full remission (disorder) ctr 0 -9.165182625892594\n",
      "76441001, Severe major depression, single episode, without psychotic features (disorder) ctr 0 -9.059808549532402\n",
      "19527009, Single episode of major depression in full remission (disorder) ctr 0 -9.059808549532402\n",
      "430852001, Severe major depression, single episode, with psychotic features (disorder) ctr 0 -9.059808549532402\n",
      "61403008, Severe depressed bipolar I disorder without psychotic features (disorder) ctr 0 -9.059808549532402\n",
      "59617007, Severe depressed bipolar I disorder with psychotic features (disorder) ctr 0 -9.059808549532402\n"
     ]
    }
   ],
   "source": [
    "import sqlite3\n",
    "import re\n",
    "conn = sqlite3.connect(\":memory:\")\n",
    "\n",
    "cur = conn.cursor()\n",
    "cur.execute(\"DROP TABLE IF EXISTS vocab\")\n",
    "cur.execute(\"CREATE VIRTUAL TABLE IF NOT EXISTS vocab USING fts5(code, display, related, common_test_rank, units, tokenize = \\\"porter unicode61 remove_diacritics 1 separators '-_'\\\")\")\n",
    "cur.execute(\"INSERT into vocab(vocab, rank) values('rank', ' bm25(0, 10, 0, 0)')\")\n",
    "\n",
    "for r in snomeds:\n",
    "    code = r['SNOMED_CID']\n",
    "    display = r['text']\n",
    "    related = \"\"\n",
    "    common_test_rank = 0\n",
    "    units = \"\"\n",
    "    cur.execute(\"INSERT INTO vocab (code, display, related, common_test_rank, units) VALUES (?, ?, ?, ?, ?)\", (code, display, related, common_test_rank, units));\n",
    "\n",
    "def search_loinc(query, limit = 100, skip = 0):\n",
    "  print(query)\n",
    "  cur.execute(\"select * from (SELECT *, rank FROM vocab WHERE vocab MATCH ? ORDER BY rank limit ? offset ?) order by common_test_rank\", (\" OR \".join(query.replace(\"-\", \" \").split(\" \")), limit, skip,))\n",
    "  results = cur.fetchall()\n",
    "  print(f\"---\\nSearch results for '{query}':\")\n",
    "  for row in results:\n",
    "    print(f\"{row[0]}, {row[1]} ctr {row[3]} {row[-1]}\")\n",
    "\n",
    "search_loinc(\"post-partum depression\")\n",
    "conn.commit()\n",
    "conn.close()"
   ]
  },
  {
   "cell_type": "code",
   "execution_count": null,
   "id": "693f920f",
   "metadata": {},
   "outputs": [],
   "source": [
    "\"post-c\".replace(\"post\", \"post \")"
   ]
  },
  {
   "cell_type": "code",
   "execution_count": null,
   "id": "02b12146",
   "metadata": {},
   "outputs": [],
   "source": [
    "from txtai.embeddings import Embeddings\n",
    "\n",
    "embeddings = Embeddings({\"path\": \"sentence-transformers/nli-mpnet-base-v2\", \"content\": True})\n",
    "\n",
    "embeddings.index([(s[\"SNOMED_CID\"], s, None) for s in snomeds])\n"
   ]
  },
  {
   "cell_type": "code",
   "execution_count": null,
   "id": "80253669",
   "metadata": {},
   "outputs": [],
   "source": [
    "for r in embeddings.search(\"SELECT id, text, score FROM txtai WHERE similar('major depressive disorder, recurrent, severe')  limit 100\"):\n",
    "    if r['score'] >= .65:\n",
    "        print(r['id'], r['text'])"
   ]
  },
  {
   "cell_type": "code",
   "execution_count": null,
   "id": "aa0329cc",
   "metadata": {},
   "outputs": [],
   "source": [
    "import nltk\n",
    "token_counts = {}\n",
    "from nltk.stem import PorterStemmer\n",
    "ps = PorterStemmer()\n",
    "\n",
    "for r in snomeds:\n",
    "    r[\"textTokens\"] = set([ps.stem(v.lower()) for v in nltk.tokenize.word_tokenize(r['text'] )])\n",
    "    for t in r[\"textTokens\"]:\n",
    "        if t not in token_counts:\n",
    "            token_counts[t] = 0\n",
    "        token_counts[t] += 1\n",
    "len(token_counts)\n",
    "\n",
    "def find_hits(q):\n",
    "    qtokens = set([ps.stem(v.lower()) for v in nltk.tokenize.word_tokenize(q)])\n",
    "    print(qtokens)\n",
    "    results = []\n",
    "    for r in snomeds:\n",
    "        matchText = r['textTokens'] & qtokens\n",
    "        #print(r['tokens'] & qtokens, len(r['tokens'] & qtokens))\n",
    "        if len(matchText) > 0:\n",
    "            results.append([sum([10 * 60000/token_counts[t] for t in matchText]), r])\n",
    "    results.sort(key=lambda v: v[0], reverse=True)\n",
    "    return results[:100]\n"
   ]
  },
  {
   "cell_type": "code",
   "execution_count": null,
   "id": "15dcb40d",
   "metadata": {},
   "outputs": [],
   "source": [
    "\n",
    "for r in find_hits(\"major depressive disorder, recurrent, severe\")[:50]:\n",
    "    print(r[1]['SNOMED_CID'],r[1]['text'])#, f\"(units: {r[1]['EXAMPLE_UCUM_UNITS']})\")\n",
    "\n",
    "len(snomeds)\n",
    "#from txtai.embeddings import Embeddings"
   ]
  }
 ],
 "metadata": {
  "kernelspec": {
   "display_name": "langchainjs-TwcGnnCY",
   "language": "python",
   "name": "langchainjs-twcgnncy"
  },
  "language_info": {
   "codemirror_mode": {
    "name": "ipython",
    "version": 3
   },
   "file_extension": ".py",
   "mimetype": "text/x-python",
   "name": "python",
   "nbconvert_exporter": "python",
   "pygments_lexer": "ipython3",
   "version": "3.10.10"
  }
 },
 "nbformat": 4,
 "nbformat_minor": 5
}
